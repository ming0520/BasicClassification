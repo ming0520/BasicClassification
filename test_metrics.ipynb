{
 "cells": [
  {
   "cell_type": "code",
   "execution_count": 6,
   "id": "vertical-moral",
   "metadata": {},
   "outputs": [],
   "source": [
    "import numpy as np\n",
    "labels = np.array(['mango','orange','apple'])\n",
    "actualList =np.array(\n",
    "    ['apple','apple','apple','apple','apple','apple','apple',\n",
    "         'apple',\n",
    "         'apple','apple','apple',\n",
    "     'orange','orange','orange','orange','orange','orange','orange','orange',\n",
    "     'orange','orange',\n",
    "     'orange','orange',\n",
    "     'mango','mango','mango','mango','mango','mango','mango','mango','mango',\n",
    "     'mango','mango','mango',\n",
    "     'mango'\n",
    "    ])\n",
    "predictionList =np.array(\n",
    "    ['apple','apple','apple','apple','apple','apple','apple',\n",
    "         'orange',\n",
    "         'mango','mango','mango',\n",
    "     'apple','apple','apple','apple','apple','apple','apple','apple',\n",
    "     'orange','orange',\n",
    "     'mango','mango',\n",
    "     'apple','apple','apple','apple','apple','apple','apple','apple','apple',\n",
    "     'orange','orange','orange',\n",
    "     'mango'\n",
    "    ])"
   ]
  },
  {
   "cell_type": "code",
   "execution_count": 5,
   "id": "interim-dominican",
   "metadata": {},
   "outputs": [],
   "source": [
    "from ConfussionMatrix import Report,ConfussionMatrix"
   ]
  },
  {
   "cell_type": "code",
   "execution_count": 7,
   "id": "atmospheric-crack",
   "metadata": {},
   "outputs": [
    {
     "name": "stdout",
     "output_type": "stream",
     "text": [
      "-----------------------------\n",
      "Label:mango\n",
      "Accuracy: 0.53\n",
      "Error: 0.47\n",
      "Specificity: 0.78\n",
      "Percision: 0.17\n",
      "Recall: 0.08\n",
      "F1-score: 0.11\n",
      "support: 13\n",
      "TP = 1 FP = 5\n",
      "FN = 12 TN = 18\n",
      "-----------------------------\n",
      "Label:orange\n",
      "Accuracy: 0.61\n",
      "Error: 0.39\n",
      "Specificity: 0.83\n",
      "Percision: 0.33\n",
      "Recall: 0.17\n",
      "F1-score: 0.22\n",
      "support: 12\n",
      "TP = 2 FP = 4\n",
      "FN = 10 TN = 20\n",
      "-----------------------------\n",
      "Label:apple\n",
      "Accuracy: 0.42\n",
      "Error: 0.58\n",
      "Specificity: 0.32\n",
      "Percision: 0.29\n",
      "Recall: 0.64\n",
      "F1-score: 0.40\n",
      "support: 11\n",
      "TP = 7 FP = 17\n",
      "FN = 4 TN = 8\n",
      "-----------------------------\n",
      "Micro f1/Accuracy: 0.28\n",
      "Macro f1: 0.24\n",
      "Weighted f1: 0.23\n",
      "Micro error: 1.44\n",
      "Macro error: 0.48\n",
      "Weighted error: 0.48\n",
      "Micro percision: 0.28\n",
      "Macro percision: 0.26\n",
      "Weighted percision: 0.26\n",
      "Micro recall: 0.28\n",
      "Macro recall: 0.29\n",
      "Weighted recall: 0.28\n"
     ]
    }
   ],
   "source": [
    "report = Report()\n",
    "newList = report.create_cm_list(actualList,predictionList,labels)\n",
    "report.create_report(newList,labels)   "
   ]
  }
 ],
 "metadata": {
  "kernelspec": {
   "display_name": "Python 3",
   "language": "python",
   "name": "python3"
  },
  "language_info": {
   "codemirror_mode": {
    "name": "ipython",
    "version": 3
   },
   "file_extension": ".py",
   "mimetype": "text/x-python",
   "name": "python",
   "nbconvert_exporter": "python",
   "pygments_lexer": "ipython3",
   "version": "3.8.5"
  }
 },
 "nbformat": 4,
 "nbformat_minor": 5
}
