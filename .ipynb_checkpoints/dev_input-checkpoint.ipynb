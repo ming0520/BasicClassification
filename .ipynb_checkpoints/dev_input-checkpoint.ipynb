{
 "cells": [
  {
   "cell_type": "code",
   "execution_count": 193,
   "id": "portuguese-discussion",
   "metadata": {},
   "outputs": [],
   "source": [
    "import pandas as pd\n",
    "import numpy as np\n",
    "import math"
   ]
  },
  {
   "cell_type": "code",
   "execution_count": 194,
   "id": "artistic-fundamentals",
   "metadata": {},
   "outputs": [],
   "source": [
    "class Feature:\n",
    "    def __init__(self, name=None, unique=None,info=0.0,\n",
    "                 df=None,gain=0.0,split_info=0.0):\n",
    "        \n",
    "        self.name = name\n",
    "        self.unique = unique\n",
    "        self.info = info\n",
    "        self.gain = gain\n",
    "        self.split_info = split_info\n",
    "        self.gain_ratio = 0.0\n",
    "        self.dataset = df"
   ]
  },
  {
   "cell_type": "code",
   "execution_count": 4,
   "id": "pleased-velvet",
   "metadata": {},
   "outputs": [],
   "source": [
    "# class FeatureVector:\n",
    "#     def __init__(feature=None,label=None,count=0):\n",
    "#         self.feature = feature\n",
    "#         self.label = label\n",
    "#         self.count = count"
   ]
  },
  {
   "cell_type": "code",
   "execution_count": 547,
   "id": "demonstrated-wound",
   "metadata": {},
   "outputs": [],
   "source": [
    "class C45:\n",
    "    def __init__(self):\n",
    "        self.except_features = []\n",
    "        self.feature_list={}\n",
    "        self.selected_feature=[]\n",
    "        \n",
    "    def read_csv(self,filename):\n",
    "        df = pd.read_table(filename, sep=';', engine='python')\n",
    "        self.label_name = df.columns[-1]\n",
    "        self.number_of_entries = len(df)\n",
    "        self.df = df\n",
    "        \n",
    "    def remove_feature(self,feature):\n",
    "        self.df = self.df.drop(feature,axis=1)\n",
    "        if feature not in self.except_features:\n",
    "            self.except_features.append(feature)\n",
    "            self.features = [item for item in self.df.columns if item not in self.except_features]\n",
    "        else:\n",
    "            print(f'{feature} is removed!')\n",
    "        \n",
    "    def identify_feature(self):\n",
    "        except_features = self.except_features\n",
    "        df = self.df\n",
    "        for col in df:\n",
    "            if col not in except_features:\n",
    "                feature = Feature(name=col,unique=df[col].unique())\n",
    "                self.feature_list[col] = feature\n",
    "                \n",
    "#         for key in self.feature_list:\n",
    "#             subdf = self.df[[key,self.label_name]]\n",
    "#             self.feature_list[key].dataset = subdf\n",
    "    \n",
    "    def log2(self,x):\n",
    "        if x == 0:\n",
    "            return 0\n",
    "        else:\n",
    "            return math.log(x,2)\n",
    "        \n",
    "    def calc_info(self,featureObj,labelObj,df):\n",
    "#         print(f'Processing {featureObj.name}')\n",
    "        number_of_entries = len(df)\n",
    "        sum_info = 0.0\n",
    "        classP = 0.0\n",
    "        if featureObj == labelObj:\n",
    "            info = 0.0\n",
    "            for label_value in labelObj.unique:\n",
    "                idxs = df[(df[labelObj.name]==label_value)].index\n",
    "                occur = len(idxs)\n",
    "#                 print('occur:',occur)\n",
    "                valueP = float(occur)/number_of_entries\n",
    "                info = info - (valueP * ( log2(valueP) ) )\n",
    "            return info\n",
    "        \n",
    "        for feature_value in featureObj.unique:\n",
    "            info = 0.0\n",
    "            idxs = df[(df[featureObj.name]==feature_value)].index\n",
    "            Dj = len(idxs)\n",
    "#             print(f'Occurance: {Dj}, ClassP: {classP}')\n",
    "            classP = float(Dj)/number_of_entries\n",
    "            for label_value in labelObj.unique:\n",
    "                idxs = df[(df[featureObj.name]==feature_value) & (df[labelObj.name]==label_value)].index\n",
    "                occur = len(idxs)\n",
    "#                 print(f'{feature_value} {label_value} {occur}/{Dj}')\n",
    "                valueP = float(occur)/Dj\n",
    "                info = info - (valueP * ( log2(valueP) ) )\n",
    "            split_info = classP * info\n",
    "            sum_info = sum_info + split_info\n",
    "#         print(f'Info {featureObj.name}(D) = {sum_info}')\n",
    "#         print('========================================================')\n",
    "        return sum_info\n",
    "        \n",
    "    def display_feature_list(self):\n",
    "        for key in feature_list:\n",
    "            print('======================================')\n",
    "            print(f'Feature name: {feature_list[key].name}')\n",
    "            print(f'Unique: {feature_list[key].unique}')\n",
    "            print(f'Info Value: {feature_list[key].entropy}')\n",
    "            print(f'Dataset: {feature_list[key].dataset}')\n",
    "            print('======================================')\n",
    "                \n",
    "    def info(self):\n",
    "        self.features = [item for item in self.df.columns if item not in self.except_features]\n",
    "        print(f'Remove feature: {self.except_features}')\n",
    "        print(f'Available feature: {self.features}')\n",
    "        print(f'Number of entries: {self.number_of_entries}')"
   ]
  },
  {
   "cell_type": "code",
   "execution_count": 566,
   "id": "innovative-formula",
   "metadata": {},
   "outputs": [
    {
     "name": "stdout",
     "output_type": "stream",
     "text": [
      "Remove feature: []\n",
      "Available feature: ['Outlook', 'Temp.', 'Humidity', 'Wind', 'Decision']\n",
      "Number of entries: 14\n"
     ]
    }
   ],
   "source": [
    "model = C45()\n",
    "model.read_csv('golf.txt')\n",
    "# model.remove_feature('RID')\n",
    "model.identify_feature()\n",
    "model.info()"
   ]
  },
  {
   "cell_type": "code",
   "execution_count": 567,
   "id": "naval-automation",
   "metadata": {},
   "outputs": [],
   "source": [
    "def best_feature(feature_list):\n",
    "    bestGain = 0.0\n",
    "    for key in feature_list: \n",
    "        featureObj = feature_list[key]\n",
    "        if featureObj.gain_ratio > bestGain:\n",
    "            bestFeature = featureObj\n",
    "            bestGain = featureObj.gain_ratio\n",
    "    if bestGain == 0.0:\n",
    "        return -99\n",
    "    return bestFeature"
   ]
  },
  {
   "cell_type": "code",
   "execution_count": 554,
   "id": "prostate-opera",
   "metadata": {},
   "outputs": [],
   "source": [
    "from anytree import Node, RenderTree, find, Walker,DoubleStyle,LevelOrderIter,findall"
   ]
  },
  {
   "cell_type": "code",
   "execution_count": null,
   "id": "ceramic-reducing",
   "metadata": {},
   "outputs": [],
   "source": [
    "## developed for find_best_featrues method\n",
    "# feature_list = model.feature_list\n",
    "# labelObj = feature_list[model.label_name]\n",
    "# selected_features = []\n",
    "# for key in feature_list:\n",
    "#     featureObj = feature_list[key]\n",
    "#     featureObj.info = model.calc_info(featureObj,labelObj,model.df)\n",
    "#     featureObj.split_info = model.calc_info(featureObj,featureObj,model.df)\n",
    "# labelObj = feature_list[model.label_name]\n",
    "# for key in feature_list:\n",
    "#     featureObj = feature_list[key]\n",
    "#     if featureObj == labelObj:\n",
    "#         continue\n",
    "#     featureObj.gain = labelObj.info - featureObj.info\n",
    "#     featureObj.gain_ratio = featureObj.gain / featureObj.split_info\n",
    "#     print(featureObj.name,featureObj.info,featureObj.gain,featureObj.split_info,featureObj.gain_ratio)\n",
    "# bestFeature = best_feature(feature_list)\n",
    "# selected_features.append(bestFeature)\n",
    "# print('Best feature:',bestFeature.name)"
   ]
  },
  {
   "cell_type": "code",
   "execution_count": 274,
   "id": "bacterial-checklist",
   "metadata": {},
   "outputs": [],
   "source": [
    "## old find best features method\n",
    "# def find_best_features(feature_list,labelObj,df):\n",
    "#     for key in feature_list:\n",
    "#         featureObj = feature_list[key]\n",
    "#         featureObj.info = model.calc_info(featureObj,labelObj,df)\n",
    "#         featureObj.split_info = model.calc_info(featureObj,featureObj,df)\n",
    "#     for key in feature_list:\n",
    "#         featureObj = feature_list[key]\n",
    "#         if featureObj == labelObj:\n",
    "#             continue\n",
    "#         featureObj.gain = labelObj.info - featureObj.info\n",
    "#         featureObj.gain_ratio = featureObj.gain / featureObj.split_info\n",
    "#         print(featureObj.name,featureObj.info,featureObj.gain,featureObj.split_info,featureObj.gain_ratio)\n",
    "#     bestFeature = best_feature(feature_list)\n",
    "#     return bestFeature"
   ]
  },
  {
   "cell_type": "code",
   "execution_count": 568,
   "id": "adequate-warrior",
   "metadata": {},
   "outputs": [],
   "source": [
    "def find_best_features(feature_list,df):\n",
    "    labelObj = feature_list[model.label_name]\n",
    "    for key in feature_list:\n",
    "        featureObj = feature_list[key]\n",
    "        featureObj.info = model.calc_info(featureObj,labelObj,df)\n",
    "        featureObj.split_info = model.calc_info(featureObj,featureObj,df)\n",
    "    labelObj = feature_list[model.label_name]\n",
    "    for key in feature_list:\n",
    "        featureObj = feature_list[key]\n",
    "        if featureObj == labelObj:\n",
    "            continue\n",
    "        featureObj.gain = labelObj.info - featureObj.info\n",
    "        featureObj.gain_ratio = featureObj.gain / featureObj.split_info\n",
    "        print(featureObj.name,featureObj.info,featureObj.gain,featureObj.split_info,featureObj.gain_ratio)\n",
    "    return feature_list"
   ]
  },
  {
   "cell_type": "code",
   "execution_count": 463,
   "id": "velvet-czech",
   "metadata": {},
   "outputs": [
    {
     "name": "stdout",
     "output_type": "stream",
     "text": [
      "age 0.6935361388961918 0.2467498197744391 1.5774062828523452 0.15642756242117517\n",
      "income 0.9110633930116763 0.029222565658954647 1.5566567074628228 0.01877264622241867\n",
      "student 0.7884504573082896 0.15183550136234136 1.0 0.15183550136234136\n",
      "credit_rating 0.8921589282623617 0.04812703040826927 0.9852281360342516 0.048848615511520595\n",
      "Best feature: age\n"
     ]
    }
   ],
   "source": [
    "# feature_list = model.feature_list\n",
    "# feature_list = find_best_features(feature_list,model.df)\n",
    "# bestFeature = best_feature(feature_list)\n",
    "# print('Best feature:',bestFeature.name)"
   ]
  },
  {
   "cell_type": "code",
   "execution_count": 569,
   "id": "sought-syria",
   "metadata": {},
   "outputs": [],
   "source": [
    "ROOT = 'root'\n",
    "LABEL = 'label'\n",
    "DECISION = 'decision'\n",
    "VALUE = 'value'"
   ]
  },
  {
   "cell_type": "code",
   "execution_count": 570,
   "id": "renewable-translation",
   "metadata": {},
   "outputs": [
    {
     "name": "stdout",
     "output_type": "stream",
     "text": [
      "Outlook\n",
      "╠══ Sunny\n",
      "║   ╚══ Humidity\n",
      "║       ╠══ High\n",
      "║       ║   ╚══ No\n",
      "║       ╚══ Normal\n",
      "║           ╚══ Yes\n",
      "╠══ Overcast\n",
      "║   ╚══ Yes\n",
      "╚══ Rain\n",
      "    ╚══ Wind\n",
      "        ╠══ Weak\n",
      "        ║   ╚══ Yes\n",
      "        ╚══ Strong\n",
      "            ╚══ No\n"
     ]
    }
   ],
   "source": [
    "for pre,_,node in RenderTree(root,DoubleStyle):\n",
    "    print(\"%s%s\" % (pre, node.name))"
   ]
  },
  {
   "cell_type": "code",
   "execution_count": 559,
   "id": "intellectual-headline",
   "metadata": {},
   "outputs": [],
   "source": [
    "def find_feature(dataset):\n",
    "    feature_list = {}\n",
    "    for col in dataset:\n",
    "        if col not in model.except_features:\n",
    "            feature = Feature(name=col,unique=dataset[col].unique())\n",
    "            feature_list[col] = feature\n",
    "    return feature_list"
   ]
  },
  {
   "cell_type": "code",
   "execution_count": 560,
   "id": "general-eagle",
   "metadata": {},
   "outputs": [],
   "source": [
    "def find_best_label(labelObj,df):\n",
    "    count = 0\n",
    "    bestLabel = labelObj.unique[0]\n",
    "    for value in labelObj.unique:\n",
    "        idxs = df[(df[labelObj.name]==value)].index\n",
    "        newCount = len(idxs)\n",
    "        if newCount > count:\n",
    "            bestLabel = value\n",
    "    return bestLabel"
   ]
  },
  {
   "cell_type": "code",
   "execution_count": 561,
   "id": "beneficial-graphic",
   "metadata": {},
   "outputs": [],
   "source": [
    "def split_dataset(name,value,dataset):\n",
    "    dataset = dataset.loc[(dataset[name]==value)]\n",
    "    dataset = dataset.drop(name,axis=1)\n",
    "    return dataset"
   ]
  },
  {
   "cell_type": "code",
   "execution_count": 562,
   "id": "entitled-debut",
   "metadata": {},
   "outputs": [],
   "source": [
    "def create_value_node(feature,df,currentNode):\n",
    "    for value in feature.unique:\n",
    "        dataset = split_dataset(feature.name,value,df)\n",
    "        newNode = Node(value,parent=currentNode,dataset=dataset,type=VALUE)"
   ]
  },
  {
   "cell_type": "code",
   "execution_count": 571,
   "id": "breathing-portable",
   "metadata": {},
   "outputs": [
    {
     "name": "stdout",
     "output_type": "stream",
     "text": [
      "Outlook\n",
      "╠══ Sunny\n",
      "║   ╚══ Humidity\n",
      "║       ╠══ High\n",
      "║       ║   ╚══ No\n",
      "║       ╚══ Normal\n",
      "║           ╚══ Yes\n",
      "╠══ Overcast\n",
      "║   ╚══ Yes\n",
      "╚══ Rain\n",
      "    ╚══ Wind\n",
      "        ╠══ Weak\n",
      "        ║   ╚══ Yes\n",
      "        ╚══ Strong\n",
      "            ╚══ No\n"
     ]
    }
   ],
   "source": [
    "for pre,_,node in RenderTree(root,DoubleStyle):\n",
    "        print(\"%s%s\" % (pre, node.name))"
   ]
  },
  {
   "cell_type": "code",
   "execution_count": 564,
   "id": "great-heading",
   "metadata": {},
   "outputs": [
    {
     "name": "stdout",
     "output_type": "stream",
     "text": [
      "Outlook 0.6935361388961918 0.2467498197744391 1.5774062828523452 0.15642756242117517\n",
      "Temp. 0.9110633930116763 0.029222565658954647 1.5566567074628228 0.01877264622241867\n",
      "Humidity 0.7884504573082896 0.15183550136234136 1.0 0.15183550136234136\n",
      "Wind 0.8921589282623617 0.04812703040826927 0.9852281360342516 0.048848615511520595\n",
      "=================================\n",
      "Node: Sunny\n",
      "   Temp. Humidity    Wind Decision\n",
      "0    Hot     High    Weak       No\n",
      "1    Hot     High  Strong       No\n",
      "7   Mild     High    Weak       No\n",
      "8   Cool   Normal    Weak      Yes\n",
      "10  Mild   Normal  Strong      Yes\n",
      "Length: 4\n",
      "Temp. 0.4 0.5709505944546686 1.5219280948873621 0.37514952012034747\n",
      "Humidity 0.0 0.9709505944546686 0.9709505944546686 1.0\n",
      "Wind 0.9509775004326937 0.01997309402197489 0.9709505944546686 0.020570659450692974\n",
      "Best feature: Humidity\n",
      "=================================\n",
      "Node: Overcast\n",
      "   Temp. Humidity    Wind Decision\n",
      "2    Hot     High    Weak      Yes\n",
      "6   Cool   Normal  Strong      Yes\n",
      "11  Mild     High  Strong      Yes\n",
      "12   Hot   Normal    Weak      Yes\n",
      "Length: 4\n",
      "Temp. 0.0 0.0 1.5 0.0\n",
      "Humidity 0.0 0.0 1.0 0.0\n",
      "Wind 0.0 0.0 1.0 0.0\n",
      "-99\n",
      "=================================\n",
      "Node: Rain\n",
      "   Temp. Humidity    Wind Decision\n",
      "3   Mild     High    Weak      Yes\n",
      "4   Cool   Normal    Weak      Yes\n",
      "5   Cool   Normal  Strong       No\n",
      "9   Mild   Normal    Weak      Yes\n",
      "13  Mild     High  Strong       No\n",
      "Length: 4\n",
      "Temp. 0.9509775004326937 0.01997309402197489 0.9709505944546686 0.020570659450692974\n",
      "Humidity 0.9509775004326937 0.01997309402197489 0.9709505944546686 0.020570659450692974\n",
      "Wind 0.0 0.9709505944546686 0.9709505944546686 1.0\n",
      "Best feature: Wind\n",
      "=================================\n",
      "=================================\n",
      "=================================\n",
      "=================================\n",
      "Node: High\n",
      "  Temp.    Wind Decision\n",
      "0   Hot    Weak       No\n",
      "1   Hot  Strong       No\n",
      "7  Mild    Weak       No\n",
      "Length: 3\n",
      "Temp. 0.0 0.0 0.9182958340544896 0.0\n",
      "Wind 0.0 0.0 0.9182958340544896 0.0\n",
      "-99\n",
      "=================================\n",
      "Node: Normal\n",
      "   Temp.    Wind Decision\n",
      "8   Cool    Weak      Yes\n",
      "10  Mild  Strong      Yes\n",
      "Length: 3\n",
      "Temp. 0.0 0.0 1.0 0.0\n",
      "Wind 0.0 0.0 1.0 0.0\n",
      "-99\n",
      "=================================\n",
      "Node: Weak\n",
      "  Temp. Humidity Decision\n",
      "3  Mild     High      Yes\n",
      "4  Cool   Normal      Yes\n",
      "9  Mild   Normal      Yes\n",
      "Length: 3\n",
      "Temp. 0.0 0.0 0.9182958340544896 0.0\n",
      "Humidity 0.0 0.0 0.9182958340544896 0.0\n",
      "-99\n",
      "=================================\n",
      "Node: Strong\n",
      "   Temp. Humidity Decision\n",
      "5   Cool   Normal       No\n",
      "13  Mild     High       No\n",
      "Length: 3\n",
      "Temp. 0.0 0.0 1.0 0.0\n",
      "Humidity 0.0 0.0 1.0 0.0\n",
      "-99\n",
      "=================================\n",
      "=================================\n",
      "=================================\n",
      "=================================\n",
      "=================================\n"
     ]
    }
   ],
   "source": [
    "feature_list = model.feature_list\n",
    "feature_list = find_best_features(feature_list,model.df)\n",
    "bestFeature = best_feature(feature_list)\n",
    "root = Node(bestFeature.name)\n",
    "for value in bestFeature.unique:\n",
    "    dataset = split_dataset(bestFeature.name,value,model.df)\n",
    "#     dataset = model.df.loc[(model.df[bestFeature.name]==value)]\n",
    "#     dataset = dataset.drop(bestFeature.name,axis=1)\n",
    "    newNode = Node(value,parent=root,dataset=dataset,type=ROOT)\n",
    "for node in LevelOrderIter(root):\n",
    "    if node != root and node.type != LABEL and node.type != DECISION:\n",
    "        print(f'Node: {node.name}')\n",
    "        print(node.dataset)\n",
    "        feature_list = find_feature(node.dataset)\n",
    "        print(f'Length: {len(feature_list)}')\n",
    "        feature_list = find_best_features(feature_list,node.dataset)\n",
    "        bestFeature = best_feature(feature_list)\n",
    "        if(bestFeature != -99):\n",
    "            print(f\"Best feature: {bestFeature.name}\")\n",
    "            newNode = Node(bestFeature.name,parent=node,type=DECISION)\n",
    "            create_value_node(bestFeature,node.dataset,newNode)\n",
    "        else:\n",
    "            print(bestFeature)\n",
    "            labelObj = feature_list[model.label_name]\n",
    "            best_label = find_best_label(labelObj,node.dataset)\n",
    "            newNode = Node(best_label,parent=node,type=LABEL)\n",
    "    print('=================================')"
   ]
  },
  {
   "cell_type": "code",
   "execution_count": 572,
   "id": "dietary-criterion",
   "metadata": {},
   "outputs": [
    {
     "name": "stdout",
     "output_type": "stream",
     "text": [
      "Outlook\n",
      "╠══ Sunny\n",
      "   Temp. Humidity    Wind Decision\n",
      "0    Hot     High    Weak       No\n",
      "1    Hot     High  Strong       No\n",
      "7   Mild     High    Weak       No\n",
      "8   Cool   Normal    Weak      Yes\n",
      "10  Mild   Normal  Strong      Yes\n",
      "║   ╚══ Humidity\n",
      "║       ╠══ High\n",
      "  Temp.    Wind Decision\n",
      "0   Hot    Weak       No\n",
      "1   Hot  Strong       No\n",
      "7  Mild    Weak       No\n",
      "║       ║   ╚══ No\n",
      "║       ╚══ Normal\n",
      "   Temp.    Wind Decision\n",
      "8   Cool    Weak      Yes\n",
      "10  Mild  Strong      Yes\n",
      "║           ╚══ Yes\n",
      "╠══ Overcast\n",
      "   Temp. Humidity    Wind Decision\n",
      "2    Hot     High    Weak      Yes\n",
      "6   Cool   Normal  Strong      Yes\n",
      "11  Mild     High  Strong      Yes\n",
      "12   Hot   Normal    Weak      Yes\n",
      "║   ╚══ Yes\n",
      "╚══ Rain\n",
      "   Temp. Humidity    Wind Decision\n",
      "3   Mild     High    Weak      Yes\n",
      "4   Cool   Normal    Weak      Yes\n",
      "5   Cool   Normal  Strong       No\n",
      "9   Mild   Normal    Weak      Yes\n",
      "13  Mild     High  Strong       No\n",
      "    ╚══ Wind\n",
      "        ╠══ Weak\n",
      "  Temp. Humidity Decision\n",
      "3  Mild     High      Yes\n",
      "4  Cool   Normal      Yes\n",
      "9  Mild   Normal      Yes\n",
      "        ║   ╚══ Yes\n",
      "        ╚══ Strong\n",
      "   Temp. Humidity Decision\n",
      "5   Cool   Normal       No\n",
      "13  Mild     High       No\n",
      "            ╚══ No\n"
     ]
    }
   ],
   "source": [
    "for pre,_,node in RenderTree(root,DoubleStyle):\n",
    "    try:\n",
    "        print(\"%s%s\\n%s\" % (pre, node.name,node.dataset))\n",
    "    except:\n",
    "        print(\"%s%s\" % (pre, node.name))"
   ]
  },
  {
   "cell_type": "code",
   "execution_count": 573,
   "id": "judicial-michael",
   "metadata": {},
   "outputs": [
    {
     "ename": "AttributeError",
     "evalue": "'int' object has no attribute 'unique'",
     "output_type": "error",
     "traceback": [
      "\u001b[1;31m---------------------------------------------------------------------------\u001b[0m",
      "\u001b[1;31mAttributeError\u001b[0m                            Traceback (most recent call last)",
      "\u001b[1;32m<ipython-input-573-3c9cb6245f96>\u001b[0m in \u001b[0;36m<module>\u001b[1;34m\u001b[0m\n\u001b[1;32m----> 1\u001b[1;33m \u001b[1;32mfor\u001b[0m \u001b[0mvalue\u001b[0m \u001b[1;32min\u001b[0m \u001b[0mbestFeature\u001b[0m\u001b[1;33m.\u001b[0m\u001b[0munique\u001b[0m\u001b[1;33m:\u001b[0m\u001b[1;33m\u001b[0m\u001b[1;33m\u001b[0m\u001b[0m\n\u001b[0m\u001b[0;32m      2\u001b[0m     \u001b[0mprint\u001b[0m\u001b[1;33m(\u001b[0m\u001b[0mvalue\u001b[0m\u001b[1;33m)\u001b[0m\u001b[1;33m\u001b[0m\u001b[1;33m\u001b[0m\u001b[0m\n\u001b[0;32m      3\u001b[0m     \u001b[0mdataset\u001b[0m \u001b[1;33m=\u001b[0m \u001b[0mmodel\u001b[0m\u001b[1;33m.\u001b[0m\u001b[0mdf\u001b[0m\u001b[1;33m.\u001b[0m\u001b[0mloc\u001b[0m\u001b[1;33m[\u001b[0m\u001b[1;33m(\u001b[0m\u001b[0mmodel\u001b[0m\u001b[1;33m.\u001b[0m\u001b[0mdf\u001b[0m\u001b[1;33m[\u001b[0m\u001b[0mbestFeature\u001b[0m\u001b[1;33m.\u001b[0m\u001b[0mname\u001b[0m\u001b[1;33m]\u001b[0m\u001b[1;33m==\u001b[0m\u001b[0mvalue\u001b[0m\u001b[1;33m)\u001b[0m\u001b[1;33m]\u001b[0m\u001b[1;33m\u001b[0m\u001b[1;33m\u001b[0m\u001b[0m\n\u001b[0;32m      4\u001b[0m     \u001b[0mprint\u001b[0m\u001b[1;33m(\u001b[0m\u001b[0mdataset\u001b[0m\u001b[1;33m)\u001b[0m\u001b[1;33m\u001b[0m\u001b[1;33m\u001b[0m\u001b[0m\n",
      "\u001b[1;31mAttributeError\u001b[0m: 'int' object has no attribute 'unique'"
     ]
    }
   ],
   "source": [
    "for value in bestFeature.unique:\n",
    "    print(value)\n",
    "    dataset = model.df.loc[(model.df[bestFeature.name]==value)]\n",
    "    print(dataset)"
   ]
  },
  {
   "cell_type": "code",
   "execution_count": 20,
   "id": "dirty-westminster",
   "metadata": {},
   "outputs": [
    {
     "data": {
      "text/plain": [
       "'age'"
      ]
     },
     "execution_count": 20,
     "metadata": {},
     "output_type": "execute_result"
    }
   ],
   "source": [
    "bestFeature.name"
   ]
  },
  {
   "cell_type": "code",
   "execution_count": 14,
   "id": "western-awareness",
   "metadata": {},
   "outputs": [
    {
     "name": "stdout",
     "output_type": "stream",
     "text": [
      "{'income': <__main__.Feature object at 0x000001D6F20F4B50>, 'student': <__main__.Feature object at 0x000001D6CFF6AB80>, 'credit_rating': <__main__.Feature object at 0x000001D6F20F4F70>, 'buys_computer': <__main__.Feature object at 0x000001D6F20F42E0>}\n"
     ]
    }
   ],
   "source": [
    "print(feature_list)"
   ]
  },
  {
   "cell_type": "code",
   "execution_count": 917,
   "id": "civic-baking",
   "metadata": {},
   "outputs": [
    {
     "name": "stdout",
     "output_type": "stream",
     "text": [
      "age\n",
      "income\n",
      "student\n",
      "credit_rating\n",
      "buys_computer\n"
     ]
    }
   ],
   "source": [
    "for key in feature_list:\n",
    "    print(feature_list[key].name)"
   ]
  },
  {
   "cell_type": "code",
   "execution_count": 733,
   "id": "thick-industry",
   "metadata": {},
   "outputs": [
    {
     "name": "stdout",
     "output_type": "stream",
     "text": [
      "14\n",
      "occur: 5\n",
      "occur: 9\n",
      "0.9402859586706309\n"
     ]
    }
   ],
   "source": [
    "df = model.df\n",
    "number_of_entries = len(df)\n",
    "info = 0.0\n",
    "for label_value in labelObj.unique:\n",
    "    idxs = df[(df[labelObj.name]==label_value)].index\n",
    "    occur = len(idxs)\n",
    "    print('occur:',occur)\n",
    "    valueP = float(occur)/number_of_entries\n",
    "    info = info - (valueP * ( log2(valueP) ) )\n",
    "print(info)"
   ]
  },
  {
   "cell_type": "code",
   "execution_count": 9,
   "id": "early-stadium",
   "metadata": {},
   "outputs": [],
   "source": [
    "def log2(x):\n",
    "    if x == 0:\n",
    "        return 0\n",
    "    else:\n",
    "        return math.log(x,2)"
   ]
  },
  {
   "cell_type": "code",
   "execution_count": 664,
   "id": "aggregate-point",
   "metadata": {},
   "outputs": [],
   "source": [
    "def calc_info(featureObj,labelObj):\n",
    "#     featureObj = model.feature_list['age']\n",
    "#     labelObj = model.feature_list['buys_computer']\n",
    "    print(f'Processing {featureObj.name}')\n",
    "    df = model.df\n",
    "    sum_info = 0.0\n",
    "    classP = 0.0\n",
    "    for feature_value in featureObj.unique:\n",
    "        info = 0.0\n",
    "        idxs = df[(df[featureObj.name]==feature_value)].index\n",
    "        Dj = len(idxs)\n",
    "        print(f'Occurance: {Dj}, ClassP: {classP}')\n",
    "        classP = float(Dj)/model.number_of_entries\n",
    "    #     print(f'{Dj}/{model.number_of_entries}')\n",
    "        for label_value in labelObj.unique:\n",
    "            idxs = df[(df[featureObj.name]==feature_value) & (df[labelObj.name]==label_value)].index\n",
    "            occur = len(idxs)\n",
    "            print(f'{feature_value} {label_value} {occur}/{Dj}')\n",
    "            valueP = float(occur)/Dj\n",
    "            info = info - (valueP * ( log2(valueP) ) )\n",
    "        split_info = classP * info\n",
    "        sum_info = sum_info + split_info\n",
    "    print(f'Info {featureObj.name}(D) = {sum_info}')\n",
    "    print('========================================================')\n",
    "    return info"
   ]
  },
  {
   "cell_type": "code",
   "execution_count": 666,
   "id": "distinct-immunology",
   "metadata": {},
   "outputs": [
    {
     "name": "stdout",
     "output_type": "stream",
     "text": [
      "Processing age\n",
      "Occurance: 5, ClassP: 0.0\n",
      "youth no 3/5\n",
      "youth yes 2/5\n",
      "Occurance: 4, ClassP: 0.35714285714285715\n",
      "middle_aged no 0/4\n",
      "middle_aged yes 4/4\n",
      "Occurance: 5, ClassP: 0.2857142857142857\n",
      "senior no 2/5\n",
      "senior yes 3/5\n",
      "Info age(D) = 0.6935361388961918\n",
      "========================================================\n",
      "Processing income\n",
      "Occurance: 4, ClassP: 0.0\n",
      "high no 2/4\n",
      "high yes 2/4\n",
      "Occurance: 6, ClassP: 0.2857142857142857\n",
      "medium no 2/6\n",
      "medium yes 4/6\n",
      "Occurance: 4, ClassP: 0.42857142857142855\n",
      "low no 1/4\n",
      "low yes 3/4\n",
      "Info income(D) = 0.9110633930116763\n",
      "========================================================\n",
      "Processing student\n",
      "Occurance: 7, ClassP: 0.0\n",
      "no no 4/7\n",
      "no yes 3/7\n",
      "Occurance: 7, ClassP: 0.5\n",
      "yes no 1/7\n",
      "yes yes 6/7\n",
      "Info student(D) = 0.7884504573082896\n",
      "========================================================\n",
      "Processing credit_rating\n",
      "Occurance: 8, ClassP: 0.0\n",
      "fair no 2/8\n",
      "fair yes 6/8\n",
      "Occurance: 6, ClassP: 0.5714285714285714\n",
      "excellent no 3/6\n",
      "excellent yes 3/6\n",
      "Info credit_rating(D) = 0.8921589282623617\n",
      "========================================================\n",
      "Processing buys_computer\n",
      "Occurance: 5, ClassP: 0.0\n",
      "no no 5/5\n",
      "no yes 0/5\n",
      "Occurance: 9, ClassP: 0.35714285714285715\n",
      "yes no 0/9\n",
      "yes yes 9/9\n",
      "Info buys_computer(D) = 0.0\n",
      "========================================================\n"
     ]
    }
   ],
   "source": [
    "labelObj = feature_list[model.label_name]\n",
    "for key in feature_list:\n",
    "    featureObj = feature_list[key]\n",
    "    featureObj.info = model.calc_info(featureObj,labelObj,model.df)"
   ]
  },
  {
   "cell_type": "code",
   "execution_count": 596,
   "id": "stopped-consortium",
   "metadata": {},
   "outputs": [
    {
     "name": "stdout",
     "output_type": "stream",
     "text": [
      "Processing age\n",
      "Occurance: 5, ClassP: 0.35714285714285715\n",
      "youth no 3\n",
      "youth yes 2\n",
      "Occurance: 4, ClassP: 0.35714285714285715\n",
      "middle_aged no 0\n",
      "middle_aged yes 4\n",
      "Occurance: 5, ClassP: 0.2857142857142857\n",
      "senior no 2\n",
      "senior yes 3\n",
      "Info age(D) = 0.6935361388961918\n",
      "========================================================\n"
     ]
    }
   ],
   "source": [
    "featureObj = model.feature_list['age']\n",
    "labelObj = model.feature_list['buys_computer']\n",
    "print(f'Processing {featureObj.name}')\n",
    "sum_info = 0.0\n",
    "for feature_value in featureObj.unique:\n",
    "    info = 0.0\n",
    "    idxs = df[(df[feature_obj.name]==feature_value)].index\n",
    "    Dj = len(idxs)\n",
    "    print(f'Occurance: {Dj}, ClassP: {classP}')\n",
    "    classP = float(Dj)/model.number_of_entries\n",
    "#     print(f'{Dj}/{model.number_of_entries}')\n",
    "    for label_value in labelObj.unique:\n",
    "        idxs = df[(df[feature_obj.name]==feature_value) & (df[label_name]==label_value)].index\n",
    "        occur = len(idxs)\n",
    "        valueP = float(occur)/Dj\n",
    "        info = info - (valueP * ( log2(valueP) ) )\n",
    "        print(feature_value,label_value,occur)\n",
    "    split_info = classP * info\n",
    "    sum_info = sum_info + split_info\n",
    "print(f'Info {featureObj.name}(D) = {sum_info}')\n",
    "print('========================================================')"
   ]
  },
  {
   "cell_type": "code",
   "execution_count": 509,
   "id": "hearing-alpha",
   "metadata": {},
   "outputs": [
    {
     "name": "stdout",
     "output_type": "stream",
     "text": [
      "age\n",
      "income\n",
      "student\n",
      "credit_rating\n",
      "buys_computer\n"
     ]
    }
   ],
   "source": [
    "df = model.df\n",
    "feature_list = model.feature_list\n",
    "for key in feature_list:\n",
    "    print(key)\n",
    "    subdf = df[[key,label_name]]\n",
    "    feature_list[key].dataset = subdf"
   ]
  },
  {
   "cell_type": "code",
   "execution_count": 487,
   "id": "restricted-placement",
   "metadata": {},
   "outputs": [
    {
     "name": "stdout",
     "output_type": "stream",
     "text": [
      "---age---\n",
      "youth\n"
     ]
    },
    {
     "ename": "KeyError",
     "evalue": "\"['youth'] not in index\"",
     "output_type": "error",
     "traceback": [
      "\u001b[1;31m---------------------------------------------------------------------------\u001b[0m",
      "\u001b[1;31mKeyError\u001b[0m                                  Traceback (most recent call last)",
      "\u001b[1;32m<ipython-input-487-296ae7ffa2e9>\u001b[0m in \u001b[0;36m<module>\u001b[1;34m\u001b[0m\n\u001b[0;32m     11\u001b[0m \u001b[1;31m#                 idxs = df[(df[feature_obj.name]==feature_value) & (df[label_name]==label_value)].index\u001b[0m\u001b[1;33m\u001b[0m\u001b[1;33m\u001b[0m\u001b[1;33m\u001b[0m\u001b[0m\n\u001b[0;32m     12\u001b[0m \u001b[1;31m#                 subdf = df.loc[(df[feature_obj.name]==feature_value) & (df[label_name]==label_value)]\u001b[0m\u001b[1;33m\u001b[0m\u001b[1;33m\u001b[0m\u001b[1;33m\u001b[0m\u001b[0m\n\u001b[1;32m---> 13\u001b[1;33m                 \u001b[0msubdf\u001b[0m \u001b[1;33m=\u001b[0m \u001b[0mdf\u001b[0m\u001b[1;33m[\u001b[0m\u001b[1;33m[\u001b[0m\u001b[0mfeature_value\u001b[0m\u001b[1;33m,\u001b[0m\u001b[0mlabel_name\u001b[0m\u001b[1;33m]\u001b[0m\u001b[1;33m]\u001b[0m\u001b[1;33m\u001b[0m\u001b[1;33m\u001b[0m\u001b[0m\n\u001b[0m\u001b[0;32m     14\u001b[0m                 \u001b[0mprint\u001b[0m\u001b[1;33m(\u001b[0m\u001b[0msubdf\u001b[0m\u001b[1;33m)\u001b[0m\u001b[1;33m\u001b[0m\u001b[1;33m\u001b[0m\u001b[0m\n\u001b[0;32m     15\u001b[0m \u001b[1;31m#                 count = len(dataset)\u001b[0m\u001b[1;33m\u001b[0m\u001b[1;33m\u001b[0m\u001b[1;33m\u001b[0m\u001b[0m\n",
      "\u001b[1;32mc:\\users\\mingb\\anaconda3\\envs\\pythongpu\\lib\\site-packages\\pandas\\core\\frame.py\u001b[0m in \u001b[0;36m__getitem__\u001b[1;34m(self, key)\u001b[0m\n\u001b[0;32m   3028\u001b[0m             \u001b[1;32mif\u001b[0m \u001b[0mis_iterator\u001b[0m\u001b[1;33m(\u001b[0m\u001b[0mkey\u001b[0m\u001b[1;33m)\u001b[0m\u001b[1;33m:\u001b[0m\u001b[1;33m\u001b[0m\u001b[1;33m\u001b[0m\u001b[0m\n\u001b[0;32m   3029\u001b[0m                 \u001b[0mkey\u001b[0m \u001b[1;33m=\u001b[0m \u001b[0mlist\u001b[0m\u001b[1;33m(\u001b[0m\u001b[0mkey\u001b[0m\u001b[1;33m)\u001b[0m\u001b[1;33m\u001b[0m\u001b[1;33m\u001b[0m\u001b[0m\n\u001b[1;32m-> 3030\u001b[1;33m             \u001b[0mindexer\u001b[0m \u001b[1;33m=\u001b[0m \u001b[0mself\u001b[0m\u001b[1;33m.\u001b[0m\u001b[0mloc\u001b[0m\u001b[1;33m.\u001b[0m\u001b[0m_get_listlike_indexer\u001b[0m\u001b[1;33m(\u001b[0m\u001b[0mkey\u001b[0m\u001b[1;33m,\u001b[0m \u001b[0maxis\u001b[0m\u001b[1;33m=\u001b[0m\u001b[1;36m1\u001b[0m\u001b[1;33m,\u001b[0m \u001b[0mraise_missing\u001b[0m\u001b[1;33m=\u001b[0m\u001b[1;32mTrue\u001b[0m\u001b[1;33m)\u001b[0m\u001b[1;33m[\u001b[0m\u001b[1;36m1\u001b[0m\u001b[1;33m]\u001b[0m\u001b[1;33m\u001b[0m\u001b[1;33m\u001b[0m\u001b[0m\n\u001b[0m\u001b[0;32m   3031\u001b[0m \u001b[1;33m\u001b[0m\u001b[0m\n\u001b[0;32m   3032\u001b[0m         \u001b[1;31m# take() does not accept boolean indexers\u001b[0m\u001b[1;33m\u001b[0m\u001b[1;33m\u001b[0m\u001b[1;33m\u001b[0m\u001b[0m\n",
      "\u001b[1;32mc:\\users\\mingb\\anaconda3\\envs\\pythongpu\\lib\\site-packages\\pandas\\core\\indexing.py\u001b[0m in \u001b[0;36m_get_listlike_indexer\u001b[1;34m(self, key, axis, raise_missing)\u001b[0m\n\u001b[0;32m   1264\u001b[0m             \u001b[0mkeyarr\u001b[0m\u001b[1;33m,\u001b[0m \u001b[0mindexer\u001b[0m\u001b[1;33m,\u001b[0m \u001b[0mnew_indexer\u001b[0m \u001b[1;33m=\u001b[0m \u001b[0max\u001b[0m\u001b[1;33m.\u001b[0m\u001b[0m_reindex_non_unique\u001b[0m\u001b[1;33m(\u001b[0m\u001b[0mkeyarr\u001b[0m\u001b[1;33m)\u001b[0m\u001b[1;33m\u001b[0m\u001b[1;33m\u001b[0m\u001b[0m\n\u001b[0;32m   1265\u001b[0m \u001b[1;33m\u001b[0m\u001b[0m\n\u001b[1;32m-> 1266\u001b[1;33m         \u001b[0mself\u001b[0m\u001b[1;33m.\u001b[0m\u001b[0m_validate_read_indexer\u001b[0m\u001b[1;33m(\u001b[0m\u001b[0mkeyarr\u001b[0m\u001b[1;33m,\u001b[0m \u001b[0mindexer\u001b[0m\u001b[1;33m,\u001b[0m \u001b[0maxis\u001b[0m\u001b[1;33m,\u001b[0m \u001b[0mraise_missing\u001b[0m\u001b[1;33m=\u001b[0m\u001b[0mraise_missing\u001b[0m\u001b[1;33m)\u001b[0m\u001b[1;33m\u001b[0m\u001b[1;33m\u001b[0m\u001b[0m\n\u001b[0m\u001b[0;32m   1267\u001b[0m         \u001b[1;32mreturn\u001b[0m \u001b[0mkeyarr\u001b[0m\u001b[1;33m,\u001b[0m \u001b[0mindexer\u001b[0m\u001b[1;33m\u001b[0m\u001b[1;33m\u001b[0m\u001b[0m\n\u001b[0;32m   1268\u001b[0m \u001b[1;33m\u001b[0m\u001b[0m\n",
      "\u001b[1;32mc:\\users\\mingb\\anaconda3\\envs\\pythongpu\\lib\\site-packages\\pandas\\core\\indexing.py\u001b[0m in \u001b[0;36m_validate_read_indexer\u001b[1;34m(self, key, indexer, axis, raise_missing)\u001b[0m\n\u001b[0;32m   1314\u001b[0m             \u001b[1;32mif\u001b[0m \u001b[0mraise_missing\u001b[0m\u001b[1;33m:\u001b[0m\u001b[1;33m\u001b[0m\u001b[1;33m\u001b[0m\u001b[0m\n\u001b[0;32m   1315\u001b[0m                 \u001b[0mnot_found\u001b[0m \u001b[1;33m=\u001b[0m \u001b[0mlist\u001b[0m\u001b[1;33m(\u001b[0m\u001b[0mset\u001b[0m\u001b[1;33m(\u001b[0m\u001b[0mkey\u001b[0m\u001b[1;33m)\u001b[0m \u001b[1;33m-\u001b[0m \u001b[0mset\u001b[0m\u001b[1;33m(\u001b[0m\u001b[0max\u001b[0m\u001b[1;33m)\u001b[0m\u001b[1;33m)\u001b[0m\u001b[1;33m\u001b[0m\u001b[1;33m\u001b[0m\u001b[0m\n\u001b[1;32m-> 1316\u001b[1;33m                 \u001b[1;32mraise\u001b[0m \u001b[0mKeyError\u001b[0m\u001b[1;33m(\u001b[0m\u001b[1;34mf\"{not_found} not in index\"\u001b[0m\u001b[1;33m)\u001b[0m\u001b[1;33m\u001b[0m\u001b[1;33m\u001b[0m\u001b[0m\n\u001b[0m\u001b[0;32m   1317\u001b[0m \u001b[1;33m\u001b[0m\u001b[0m\n\u001b[0;32m   1318\u001b[0m             \u001b[0mnot_found\u001b[0m \u001b[1;33m=\u001b[0m \u001b[0mkey\u001b[0m\u001b[1;33m[\u001b[0m\u001b[0mmissing_mask\u001b[0m\u001b[1;33m]\u001b[0m\u001b[1;33m\u001b[0m\u001b[1;33m\u001b[0m\u001b[0m\n",
      "\u001b[1;31mKeyError\u001b[0m: \"['youth'] not in index\""
     ]
    }
   ],
   "source": [
    "feaVec=[]\n",
    "feature_list = model.feature_list\n",
    "label_name = model.label_name\n",
    "df = model.df\n",
    "for key in feature_list:\n",
    "    if key != label_name:\n",
    "        print(f'---{key}---')\n",
    "        feature_obj = feature_list[key]\n",
    "        for feature_value in feature_obj.unique:\n",
    "                print(feature_value)\n",
    "#                 idxs = df[(df[feature_obj.name]==feature_value) & (df[label_name]==label_value)].index\n",
    "#                 subdf = df.loc[(df[feature_obj.name]==feature_value) & (df[label_name]==label_value)]\n",
    "                subdf = df[[feature_obj.name,label_name]]\n",
    "                print(subdf)\n",
    "#                 count = len(dataset)\n",
    "#                 probability = float(count/model.number_of_entries)\n",
    "#                 print(feature_value,label_value,probability)"
   ]
  },
  {
   "cell_type": "markdown",
   "id": "painted-notion",
   "metadata": {},
   "source": [
    "Developed for read file"
   ]
  },
  {
   "cell_type": "code",
   "execution_count": 272,
   "id": "tutorial-terrain",
   "metadata": {},
   "outputs": [],
   "source": [
    "except_features = []\n",
    "df = pd.read_table('student_train.txt', sep=';', engine='python')\n",
    "label_name = df.columns[-1]\n",
    "except_features.append('RID')\n",
    "number_of_entries = len(df)"
   ]
  },
  {
   "cell_type": "code",
   "execution_count": 287,
   "id": "fresh-ordinary",
   "metadata": {},
   "outputs": [
    {
     "name": "stdout",
     "output_type": "stream",
     "text": [
      "['RID']\n",
      "6 buys_computer\n",
      "Index(['RID', 'age', 'income', 'student', 'credit_rating', 'buys_computer'], dtype='object')\n",
      "14\n"
     ]
    }
   ],
   "source": [
    "print(except_features)\n",
    "print(number_of_features,label_name)\n",
    "print(df.columns)\n",
    "print(number_of_entries)"
   ]
  },
  {
   "cell_type": "markdown",
   "id": "collaborative-shakespeare",
   "metadata": {},
   "source": [
    "Identify Feature"
   ]
  },
  {
   "cell_type": "code",
   "execution_count": 276,
   "id": "corresponding-doctor",
   "metadata": {},
   "outputs": [],
   "source": [
    "feature_list={}\n",
    "for col in df:\n",
    "    if col not in except_features:\n",
    "        feature = Feature(name=col,unique=df[col].unique())\n",
    "        feature_list[col] = feature\n",
    "#     feature_list[col] = df[col].unique()"
   ]
  },
  {
   "cell_type": "code",
   "execution_count": 427,
   "id": "inside-carroll",
   "metadata": {},
   "outputs": [
    {
     "name": "stdout",
     "output_type": "stream",
     "text": [
      "['youth' 'middle_aged' 'senior']\n",
      "['high' 'medium' 'low']\n",
      "['no' 'yes']\n",
      "['fair' 'excellent']\n",
      "['no' 'yes']\n"
     ]
    }
   ],
   "source": [
    "for key in feature_list:\n",
    "    print(feature_list[key].unique)"
   ]
  },
  {
   "cell_type": "markdown",
   "id": "finnish-healing",
   "metadata": {},
   "source": [
    "Develop feature vector to count the gain"
   ]
  },
  {
   "cell_type": "code",
   "execution_count": 454,
   "id": "automatic-retail",
   "metadata": {},
   "outputs": [
    {
     "name": "stdout",
     "output_type": "stream",
     "text": [
      "youth no\n",
      "youth yes\n",
      "middle_aged no\n",
      "middle_aged yes\n",
      "senior no\n",
      "senior yes\n",
      "high no\n",
      "high yes\n",
      "medium no\n",
      "medium yes\n",
      "low no\n",
      "low yes\n",
      "no no\n",
      "no yes\n",
      "yes no\n",
      "yes yes\n",
      "fair no\n",
      "fair yes\n",
      "excellent no\n",
      "excellent yes\n"
     ]
    }
   ],
   "source": [
    "feaVec=[]\n",
    "for key in feature_list:\n",
    "    if key != label_name:\n",
    "        feature_obj = feature_list[key]\n",
    "        for feature_value in feature_obj.unique:\n",
    "            for label_value in feature_list[label_name].unique:\n",
    "                print(feature_value,label_value)"
   ]
  },
  {
   "cell_type": "markdown",
   "id": "american-special",
   "metadata": {},
   "source": [
    "https://www.listendata.com/2019/07/how-to-filter-pandas-dataframe.html\n",
    "\n",
    "solution\n",
    "https://discuss.analyticsvidhya.com/t/how-to-resolve-python-error-cannot-compare-a-dtyped-int64-array-with-a-scalar-of-type-bool/73065"
   ]
  },
  {
   "cell_type": "code",
   "execution_count": 270,
   "id": "determined-triumph",
   "metadata": {},
   "outputs": [
    {
     "data": {
      "text/plain": [
       "Int64Index([0, 1, 7], dtype='int64')"
      ]
     },
     "execution_count": 270,
     "metadata": {},
     "output_type": "execute_result"
    }
   ],
   "source": [
    "feature_obj = feature_list['age']\n",
    "df[(df[feature_obj.name]==\"youth\") & (df[label_name]=='no')].index\n",
    "## use to split data\n",
    "# df.loc[(df[feature_obj.name]==\"youth\") & (df[label_name]=='no')]"
   ]
  }
 ],
 "metadata": {
  "kernelspec": {
   "display_name": "Python 3",
   "language": "python",
   "name": "python3"
  },
  "language_info": {
   "codemirror_mode": {
    "name": "ipython",
    "version": 3
   },
   "file_extension": ".py",
   "mimetype": "text/x-python",
   "name": "python",
   "nbconvert_exporter": "python",
   "pygments_lexer": "ipython3",
   "version": "3.8.5"
  }
 },
 "nbformat": 4,
 "nbformat_minor": 5
}
