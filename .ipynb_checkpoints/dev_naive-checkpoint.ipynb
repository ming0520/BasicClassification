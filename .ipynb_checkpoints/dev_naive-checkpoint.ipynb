{
 "cells": [
  {
   "cell_type": "code",
   "execution_count": 1,
   "id": "independent-cinema",
   "metadata": {},
   "outputs": [],
   "source": [
    "import pandas as pd\n",
    "import numpy as np"
   ]
  },
  {
   "cell_type": "code",
   "execution_count": 2,
   "id": "stretch-organ",
   "metadata": {},
   "outputs": [],
   "source": [
    "class Feature:\n",
    "    def __init__(self, name=None, unique=None,info=0.0,\n",
    "                 df=None,gain=0.0,split_info=0.0):\n",
    "        \n",
    "        self.name = name\n",
    "        self.unique = unique\n",
    "        self.info = info\n",
    "        self.gain = gain\n",
    "        self.split_info = split_info\n",
    "        self.gain_ratio = 0.0\n",
    "        self.dataset = df"
   ]
  },
  {
   "cell_type": "code",
   "execution_count": 3,
   "id": "indonesian-richardson",
   "metadata": {},
   "outputs": [],
   "source": [
    "class Prior:\n",
    "    def __init__(self, feature=None, label=None,feature_support=0,label_support=0,label_count=0):\n",
    "        self.feature = feature\n",
    "        self.label = label\n",
    "        self.feature_support = feature_support\n",
    "        self.label_support = label_support\n",
    "        self.label_count = label_count"
   ]
  },
  {
   "cell_type": "code",
   "execution_count": 4,
   "id": "unlikely-medicaid",
   "metadata": {},
   "outputs": [],
   "source": [
    "class NaiveBayesian:\n",
    "    def __init__(self):\n",
    "        self.except_features = []\n",
    "        self.feature_list={}\n",
    "        \n",
    "    def read_csv(self,filename):\n",
    "        df = pd.read_table(filename, sep=';', engine='python')\n",
    "        self.label_name = df.columns[-1]\n",
    "        self.number_of_entries = len(df)\n",
    "        self.df = df\n",
    "        \n",
    "    def remove_feature(self,feature):\n",
    "        if feature not in self.except_features:\n",
    "            self.except_features.append(feature)\n",
    "            self.features = [item for item in self.df.columns if item not in self.except_features]\n",
    "#             self.df = self.df.drop(feature,axis=1)\n",
    "        else:\n",
    "            print(f'{feature} is removed!')\n",
    "            \n",
    "    def find_feature(self,dataset):\n",
    "        feature_list = {}\n",
    "        for col in dataset:\n",
    "            if col not in self.except_features:\n",
    "                feature = Feature(name=col,unique=dataset[col].unique())\n",
    "                feature_list[col] = feature\n",
    "        return feature_list\n",
    "    \n",
    "    def info(self):\n",
    "        self.features = [item for item in self.df.columns if item not in self.except_features]\n",
    "        print(f'Remove feature: {self.except_features}')\n",
    "        print(f'Available feature: {self.features}')\n",
    "        print(f'Number of entries: {self.number_of_entries}')    "
   ]
  },
  {
   "cell_type": "code",
   "execution_count": 5,
   "id": "several-navigator",
   "metadata": {},
   "outputs": [],
   "source": [
    "model = NaiveBayesian()\n",
    "model.read_csv('lense.txt')\n",
    "model.remove_feature(model.df.columns[0])"
   ]
  },
  {
   "cell_type": "code",
   "execution_count": 6,
   "id": "lonely-introduction",
   "metadata": {},
   "outputs": [],
   "source": [
    "feature_list = model.find_feature(model.df)\n",
    "key_list = list(feature_list)"
   ]
  },
  {
   "cell_type": "code",
   "execution_count": 7,
   "id": "brief-conversion",
   "metadata": {},
   "outputs": [],
   "source": [
    "featureObj = feature_list[key_list[0]]\n",
    "labelObj = feature_list[model.label_name]"
   ]
  },
  {
   "cell_type": "code",
   "execution_count": 28,
   "id": "sticky-position",
   "metadata": {},
   "outputs": [],
   "source": [
    "label_dict = {}\n",
    "for label in labelObj.unique:\n",
    "    label_idxs = model.df[(model.df[labelObj.name]==label)].index\n",
    "    label_dict[label] = len(label_idxs)\n",
    "    \n",
    "value_dict={}\n",
    "for unique in featureObj.unique: \n",
    "    unique_list={}\n",
    "    for label in labelObj.unique:\n",
    "        feature_idxs = model.df[((model.df[featureObj.name]==unique)&(model.df[labelObj.name]==label))].index\n",
    "        feature_count = len(feature_idxs)\n",
    "        label_count = label_dict[label]\n",
    "        prior = Prior(unique, label,feature_count,label_count,len(labelObj.unique))\n",
    "        unique_list[label] = prior\n",
    "    value_dict[unique] = unique_list"
   ]
  },
  {
   "cell_type": "code",
   "execution_count": 30,
   "id": "lovely-glasgow",
   "metadata": {},
   "outputs": [
    {
     "data": {
      "text/plain": [
       "{'none': <__main__.Prior at 0x1d8315f5d00>,\n",
       " 'soft': <__main__.Prior at 0x1d8315f5d60>,\n",
       " 'hard': <__main__.Prior at 0x1d8315f5dc0>}"
      ]
     },
     "execution_count": 30,
     "metadata": {},
     "output_type": "execute_result"
    }
   ],
   "source": [
    "value_dict['pre-presbyopic']"
   ]
  }
 ],
 "metadata": {
  "kernelspec": {
   "display_name": "Python 3",
   "language": "python",
   "name": "python3"
  },
  "language_info": {
   "codemirror_mode": {
    "name": "ipython",
    "version": 3
   },
   "file_extension": ".py",
   "mimetype": "text/x-python",
   "name": "python",
   "nbconvert_exporter": "python",
   "pygments_lexer": "ipython3",
   "version": "3.8.5"
  }
 },
 "nbformat": 4,
 "nbformat_minor": 5
}
